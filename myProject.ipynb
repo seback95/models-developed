{
 "cells": [
  {
   "cell_type": "code",
   "execution_count": 2,
   "id": "38975d40",
   "metadata": {},
   "outputs": [],
   "source": [
    "%matplotlib notebook\n",
    "import pandas as pd\n",
    "import numpy as np\n",
    "import seaborn as sn\n",
    "import matplotlib.pyplot as plt\n",
    "\n",
    "# df (my data frame)\n",
    "df = pd.read_csv(\"Z:/MachLearning/base_datos_2008.csv\")\n",
    "from sklearn.model_selection import train_test_split\n"
   ]
  },
  {
   "cell_type": "markdown",
   "id": "38fa61ca",
   "metadata": {},
   "source": [
    "## Exploración y depuración "
   ]
  },
  {
   "cell_type": "code",
   "execution_count": 13,
   "id": "2909c568",
   "metadata": {},
   "outputs": [
    {
     "data": {
      "text/plain": [
       "Index(['Year', 'Month', 'DayofMonth', 'DayOfWeek', 'DepTime', 'CRSDepTime',\n",
       "       'ArrTime', 'CRSArrTime', 'UniqueCarrier', 'FlightNum', 'TailNum',\n",
       "       'ActualElapsedTime', 'CRSElapsedTime', 'AirTime', 'ArrDelay',\n",
       "       'DepDelay', 'Origin', 'Dest', 'Distance', 'TaxiIn', 'TaxiOut',\n",
       "       'Cancelled', 'CancellationCode', 'Diverted', 'CarrierDelay',\n",
       "       'WeatherDelay', 'NASDelay', 'SecurityDelay', 'LateAircraftDelay'],\n",
       "      dtype='object')"
      ]
     },
     "execution_count": 13,
     "metadata": {},
     "output_type": "execute_result"
    }
   ],
   "source": [
    "df.columns"
   ]
  },
  {
   "cell_type": "code",
   "execution_count": 3,
   "id": "4c7d2f15",
   "metadata": {},
   "outputs": [
    {
     "name": "stdout",
     "output_type": "stream",
     "text": [
      "Cantidad vacios de WeatherDelay  5484993\n",
      "Cantidad vacios de LateAircraftDelay  5484993\n",
      "Cantidad vacios de Diverted 0\n",
      "Cantidad vacios de CarrierDelay 5484993\n",
      "Cantidad vacios de ArrDelay 154699\n",
      "Cantidad vacios de DayOfWeek 0\n",
      "Cantidad vacios de TaxiIn 151649\n"
     ]
    }
   ],
   "source": [
    "print(\"Cantidad vacios de WeatherDelay \",len(df[pd.isna(df[\"WeatherDelay\"])]))\n",
    "\n",
    "print(\"Cantidad vacios de LateAircraftDelay \",len(df[pd.isna(df[\"LateAircraftDelay\"])]))\n",
    "\n",
    "print(\"Cantidad vacios de Diverted\", len(df[pd.isna(df[\"Diverted\"])]))\n",
    "\n",
    "print(\"Cantidad vacios de CarrierDelay\",len(df[pd.isna(df[\"CarrierDelay\"])]))\n",
    "\n",
    "print(\"Cantidad vacios de ArrDelay\",len(df[pd.isna(df[\"ArrDelay\"])]))\n",
    "\n",
    "print(\"Cantidad vacios de DayOfWeek\",len(df[pd.isna(df[\"DayOfWeek\"])]))\n",
    "\n",
    "print(\"Cantidad vacios de TaxiIn\",len(df[pd.isna(df[\"TaxiIn\"])]))\n",
    "\n",
    "df = df[df[\"WeatherDelay\"].notna() &\n",
    "        df[\"LateAircraftDelay\"].notna() &\n",
    "        df[\"Diverted\"].notna() &\n",
    "        df[\"CarrierDelay\"].notna() &\n",
    "        df[\"ArrDelay\"].notna() &\n",
    "        df[\"DayofMonth\"].notna() &\n",
    "        df[\"DayOfWeek\"].notna()]\n"
   ]
  },
  {
   "cell_type": "code",
   "execution_count": 4,
   "id": "f32c47fe",
   "metadata": {},
   "outputs": [],
   "source": [
    "feature_names_flights = [\"Distance\",\"Diverted\",\"CarrierDelay\",\"WeatherDelay\",\"LateAircraftDelay\"]\n",
    "X_flights = df[feature_names_flights]\n",
    "y_flights = df['ArrDelay']"
   ]
  },
  {
   "cell_type": "markdown",
   "id": "fc490d67",
   "metadata": {},
   "source": [
    "## KNeighborsRegressor"
   ]
  },
  {
   "cell_type": "markdown",
   "id": "05d9d717",
   "metadata": {},
   "source": [
    "**KNeighborsRegressor:** **Para este modelo acotamos el tamaño del dataset por motivos prácticos ya que este modelo su entrenamiento es\n",
    "costoso para un dataset muy grande como en este caso con 1,5 M de filas.**"
   ]
  },
  {
   "cell_type": "code",
   "execution_count": 8,
   "id": "17867295",
   "metadata": {},
   "outputs": [
    {
     "name": "stdout",
     "output_type": "stream",
     "text": [
      "test score: 0.762\n"
     ]
    }
   ],
   "source": [
    "\n",
    "from sklearn.neighbors import KNeighborsRegressor\n",
    "X_train, X_test, y_train, y_test = train_test_split(X_flights[0:5000], y_flights[0:5000], random_state = 10)\n",
    "\n",
    "knnreg = KNeighborsRegressor(n_neighbors = 10).fit(X_train, y_train)\n",
    "\n",
    "print('test score: {:.3f}'\n",
    "     .format(knnreg.score(X_test, y_test)))"
   ]
  },
  {
   "cell_type": "code",
   "execution_count": 16,
   "id": "779ea867",
   "metadata": {},
   "outputs": [
    {
     "name": "stdout",
     "output_type": "stream",
     "text": [
      "1 KnnReg\n",
      " train score: 0.97 test score: 0.71\n",
      "2 KnnReg\n",
      " train score: 0.93 test score: 0.79\n",
      "3 KnnReg\n",
      " train score: 0.90 test score: 0.80\n",
      "5 KnnReg\n",
      " train score: 0.86 test score: 0.80\n",
      "6 KnnReg\n",
      " train score: 0.85 test score: 0.79\n",
      "6 KnnReg\n",
      " train score: 0.85 test score: 0.79\n",
      "7 KnnReg\n",
      " train score: 0.83 test score: 0.78\n",
      "10 KnnReg\n",
      " train score: 0.80 test score: 0.76\n",
      "20 KnnReg\n",
      " train score: 0.71 test score: 0.70\n"
     ]
    }
   ],
   "source": [
    "from sklearn.neighbors import KNeighborsRegressor\n",
    "\n",
    "X_train, X_test, y_train, y_test = train_test_split(X_flights[0:5000], y_flights[0:5000], random_state = 10)\n",
    "\n",
    "for  K in [1,2,3,5,6,6,7,10,20]:\n",
    "    knnreg = KNeighborsRegressor(n_neighbors = K).fit(X_train, y_train)\n",
    "    print(\"{} KnnReg\\n train score: {:.2f} test score: {:.2f}\".format(K,    \n",
    "              knnreg.score(X_train, y_train),knnreg.score(X_test, y_test)))\n"
   ]
  },
  {
   "cell_type": "markdown",
   "id": "87c3b825",
   "metadata": {},
   "source": [
    "***Podemos ver que en esta situacion el mejor score alcanzado es con una cantidad de vecinos igual a 5***"
   ]
  },
  {
   "cell_type": "markdown",
   "id": "50ff6e07",
   "metadata": {},
   "source": [
    "## LinearRegression"
   ]
  },
  {
   "cell_type": "code",
   "execution_count": 9,
   "id": "96f406a6",
   "metadata": {},
   "outputs": [
    {
     "name": "stdout",
     "output_type": "stream",
     "text": [
      "Regresion lineal (ridge) :valor de intercept calculado: 21.31939699033586\n",
      "Regresion lineal (ridge) :Coeficientes calculados:\n",
      "[0.00128099 0.         0.86847563 0.95413467 0.86289565]\n",
      "R-squared score (training): 0.701\n",
      "R-squared score (test): 0.710\n"
     ]
    }
   ],
   "source": [
    "from sklearn.linear_model import LinearRegression\n",
    "\n",
    "X_train, X_test, y_train, y_test = train_test_split(X_flights, y_flights,\n",
    "                                                   random_state = 10)\n",
    "linreg = LinearRegression().fit(X_train, y_train)\n",
    "\n",
    "print('Regresion lineal (ridge) :valor de intercept calculado: {}'\n",
    "     .format(linreg.intercept_))\n",
    "print('Regresion lineal (ridge) :Coeficientes calculados:\\n{}'\n",
    "     .format(linreg.coef_))\n",
    "print('R-squared score (training): {:.3f}'\n",
    "     .format(linreg.score(X_train, y_train)))\n",
    "print('R-squared score (test): {:.3f}'\n",
    "     .format(linreg.score(X_test, y_test)))"
   ]
  },
  {
   "cell_type": "markdown",
   "id": "0857dd79",
   "metadata": {},
   "source": [
    "## Ridge Regression"
   ]
  },
  {
   "cell_type": "code",
   "execution_count": 10,
   "id": "c56295d2",
   "metadata": {},
   "outputs": [
    {
     "name": "stdout",
     "output_type": "stream",
     "text": [
      "Regresion lineal (ridge) :valor de intercept calculado: 21.319397952524795\n",
      "Regresion lineal (ridge) :Coeficientes calculados:\n",
      "[0.00128099 0.         0.86847561 0.9541346  0.86289564]\n",
      "R-squared score (training): 0.701\n",
      "R-squared score (test): 0.710\n"
     ]
    }
   ],
   "source": [
    "\n",
    "from sklearn.linear_model import Ridge\n",
    "X_train, X_test, y_train, y_test = train_test_split(X_flights, y_flights, random_state = 10)\n",
    "\n",
    "linridge = Ridge(alpha=30.0).fit(X_train, y_train)\n",
    "print('Regresion lineal (ridge) :valor de intercept calculado: {}'\n",
    "     .format(linridge.intercept_))\n",
    "print('Regresion lineal (ridge) :Coeficientes calculados:\\n{}'\n",
    "     .format(linridge.coef_))\n",
    "print('R-squared score (training): {:.3f}'\n",
    "     .format(linridge.score(X_train, y_train)))\n",
    "print('R-squared score (test): {:.3f}'\n",
    "     .format(linridge.score(X_test, y_test)))\n"
   ]
  },
  {
   "cell_type": "code",
   "execution_count": 15,
   "id": "1fcca22b",
   "metadata": {
    "scrolled": true
   },
   "outputs": [
    {
     "name": "stdout",
     "output_type": "stream",
     "text": [
      "Variación del hyperparametro alpha  \n",
      "\n",
      "Alpha = 0.00\n",
      "num abs(coeff) > 1.0: 2, r-squared training: 0.67, r-squared test: 0.68\n",
      "\n",
      "Alpha = 1.00\n",
      "num abs(coeff) > 1.0: 0, r-squared training: 0.70, r-squared test: 0.71\n",
      "\n",
      "Alpha = 10.00\n",
      "num abs(coeff) > 1.0: 0, r-squared training: 0.70, r-squared test: 0.71\n",
      "\n",
      "Alpha = 20.00\n",
      "num abs(coeff) > 1.0: 0, r-squared training: 0.70, r-squared test: 0.71\n",
      "\n",
      "Alpha = 50.00\n",
      "num abs(coeff) > 1.0: 0, r-squared training: 0.70, r-squared test: 0.71\n",
      "\n",
      "Alpha = 100.00\n",
      "num abs(coeff) > 1.0: 0, r-squared training: 0.70, r-squared test: 0.71\n",
      "\n"
     ]
    }
   ],
   "source": [
    "print('Variación del hyperparametro alpha  \\n')\n",
    "for this_alpha in [0, 1, 10, 20, 50, 100]:\n",
    "    linridge = Ridge(alpha = this_alpha).fit(X_train, y_train)\n",
    "    r2_train = linridge.score(X_train, y_train)\n",
    "    r2_test = linridge.score(X_test, y_test)\n",
    "    num_coeff_bigger = np.sum(abs(linridge.coef_) > 1.0)\n",
    "    print('Alpha = {:.2f}\\nnum abs(coeff) > 1.0: {}, \\\n",
    "r-squared training: {:.2f}, r-squared test: {:.2f}\\n'\n",
    "         .format(this_alpha, num_coeff_bigger, r2_train, r2_test))\n",
    "    \n",
    "    "
   ]
  },
  {
   "cell_type": "markdown",
   "id": "af685125",
   "metadata": {},
   "source": [
    "***Vemos que al aumentar alpha se alcanza a un score fijo lo cual es dudoso este comportamiento...***"
   ]
  },
  {
   "cell_type": "markdown",
   "id": "7090d32d",
   "metadata": {},
   "source": [
    "## Cross-validation"
   ]
  },
  {
   "cell_type": "markdown",
   "id": "10877653",
   "metadata": {},
   "source": [
    "***Para la evaluación de desempeño de nuestro modelo KnnReg usamos validacion cruzada que consta de distintas diviciones de nuestro\n",
    "dataset, en este caso usamos tres diviciones.***"
   ]
  },
  {
   "cell_type": "code",
   "execution_count": 14,
   "id": "b7b67b2c",
   "metadata": {},
   "outputs": [
    {
     "name": "stdout",
     "output_type": "stream",
     "text": [
      "Cross-validation scores (3-fold): [0.7650618  0.81212115 0.81515475 0.80637413 0.69463459]\n",
      "Mean cross-validation score (3-fold): 0.779\n"
     ]
    }
   ],
   "source": [
    "\n",
    "from sklearn.model_selection import cross_val_score\n",
    "from sklearn.neighbors import KNeighborsRegressor\n",
    "\n",
    "knnreg = KNeighborsRegressor(n_neighbors = 5)\n",
    "X = X_flights[0:5000]\n",
    "y = y_flights[0:5000]\n",
    "cv_scores = cross_val_score(knnreg, X, y)\n",
    "\n",
    "print('Cross-validation scores (3-fold):', cv_scores)\n",
    "print('Promedio cross-validation score (3-fold): {:.3f}'\n",
    "     .format(np.mean(cv_scores)))"
   ]
  },
  {
   "cell_type": "markdown",
   "id": "d6fe06a9",
   "metadata": {},
   "source": [
    "***Lo cual nos dice que en uno de los peores comportamiento de nuestro modelo seria 0.6946 y 0.812 para el mejor comportamiento. Con un promedio de 0.779 para estas tres particiones***"
   ]
  }
 ],
 "metadata": {
  "kernelspec": {
   "display_name": "Python 3",
   "language": "python",
   "name": "python3"
  },
  "language_info": {
   "codemirror_mode": {
    "name": "ipython",
    "version": 3
   },
   "file_extension": ".py",
   "mimetype": "text/x-python",
   "name": "python",
   "nbconvert_exporter": "python",
   "pygments_lexer": "ipython3",
   "version": "3.8.8"
  }
 },
 "nbformat": 4,
 "nbformat_minor": 5
}
